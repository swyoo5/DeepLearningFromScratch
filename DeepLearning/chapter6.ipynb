{
 "cells": [
  {
   "cell_type": "code",
   "execution_count": 2,
   "id": "6e554429",
   "metadata": {},
   "outputs": [],
   "source": [
    "class SGD :\n",
    "    def __init__(self, lr = 0.01) :\n",
    "        self.lr = lr\n",
    "        \n",
    "    def update(self, params, grads) :\n",
    "        for key in params.key() :\n",
    "            params[key] -= self.lr + grads[key]"
   ]
  },
  {
   "cell_type": "code",
   "execution_count": 3,
   "id": "f3b12ecd",
   "metadata": {},
   "outputs": [],
   "source": [
    "import numpy as np\n",
    "\n",
    "class Momentum :\n",
    "    def __init__(self, lr = 0.01, momentum = 0.9) :\n",
    "        self.lr = lr\n",
    "        self.momentum = momentum\n",
    "        self.v = None\n",
    "        \n",
    "    def update(self, params, grads) :\n",
    "        if self.v is None :\n",
    "            self.v = {}\n",
    "            for key, val in params.items() :\n",
    "                self.v[key] = np.zeros_like(val)\n",
    "                \n",
    "            for key in params.keys() :\n",
    "                self.v[key] = self.momentum.v[key] - self.lr * grads[key]\n",
    "                params[key] += self.v[key]"
   ]
  },
  {
   "cell_type": "code",
   "execution_count": 4,
   "id": "51b0fe78",
   "metadata": {},
   "outputs": [],
   "source": [
    "class AdaGrad :\n",
    "    def __init__(self, lr = 0.01) :\n",
    "        self.lr = lr\n",
    "        self.h = None\n",
    "        \n",
    "    def update(self, params, grads) :\n",
    "        if self.h is None :\n",
    "            self.h = {}\n",
    "            \n",
    "            for key, val in params.items() :\n",
    "                self.h[key] = np.zeros_like(val)\n",
    "            \n",
    "        for key in params.keys() :\n",
    "            self.h[key] += grads[key] * grads[key]\n",
    "            params[key] -= self.lr * grads[key] / (np.sqrt(self.h[key]) + 1e-7)"
   ]
  },
  {
   "cell_type": "code",
   "execution_count": 5,
   "id": "a46f1e27",
   "metadata": {},
   "outputs": [],
   "source": [
    "# 가중치 초기값에 따라 은닉층 활성화 값들이 어떻게 변화하는가\n",
    "import numpy as np\n",
    "import matplotlib.pyplot as plt\n",
    "\n",
    "def sigmoid(x) :\n",
    "    return 1 / (1 + np.exp(-x))\n",
    "\n",
    "x = np.random.randn(1000, 100)\n",
    "node_num = 100\n",
    "hidden_layer_size = 5\n",
    "activations = {}\n",
    "\n",
    "for i in range(hidden_layer_size) :\n",
    "    if i != 0 :\n",
    "        x = activations[i - 1]\n",
    "        \n",
    "    # w = np.random.randn(node_num, node_num) * 1\n",
    "    # w = np.random.randn(node_num, node_num) * .01\n",
    "    w = np.random.randn(node_num, node_num) / np.sqrt(node_num)\n",
    "    \n",
    "    a = np.dot(x, w)\n",
    "    z = sigmoid(a)\n",
    "    activations[i] = z"
   ]
  },
  {
   "cell_type": "code",
   "execution_count": 6,
   "id": "1da709c6",
   "metadata": {},
   "outputs": [
    {
     "data": {
      "image/png": "[encoded data removed]",
      "text/plain": [
       "<Figure size 432x288 with 5 Axes>"
      ]
     },
     "metadata": {
      "needs_background": "light"
     },
     "output_type": "display_data"
    }
   ],
   "source": [
    "# 히스토그램\n",
    "for i, a in activations.items() :\n",
    "    plt.subplot(1, len(activations), i + 1)\n",
    "    plt.title(str(i + 1) + \"-layer\")\n",
    "    plt.hist(a.flatten(), 30, range = (0, 1))\n",
    "plt.show()"
   ]
  },
  {
   "cell_type": "code",
   "execution_count": 7,
   "id": "546c2c39",
   "metadata": {},
   "outputs": [],
   "source": [
    "class DropOut :\n",
    "    def __init__(self, dropout_ratio = 0.5) :\n",
    "        self.dropout_ratio = dropout_ratio\n",
    "        self.mask = None\n",
    "        \n",
    "    def forward(self, x, train_flag = True) :\n",
    "        if train_flag :\n",
    "            self.mask = np.random.rand(*x.shape) > self.dropout_ratio\n",
    "            return x * self.mask\n",
    "        else :\n",
    "            return x * (1.0 - self.dropout_ratio)\n",
    "        \n",
    "    def backward(self, dout) :\n",
    "        return dout * self.mask"
   ]
  },
  {
   "cell_type": "code",
   "execution_count": null,
   "id": "ea09055a",
   "metadata": {},
   "outputs": [],
   "source": []
  }
 ],
 "metadata": {
  "kernelspec": {
   "display_name": "Python 3",
   "language": "python",
   "name": "python3"
  },
  "language_info": {
   "codemirror_mode": {
    "name": "ipython",
    "version": 3
   },
   "file_extension": ".py",
   "mimetype": "text/x-python",
   "name": "python",
   "nbconvert_exporter": "python",
   "pygments_lexer": "ipython3",
   "version": "3.7.10"
  }
 },
 "nbformat": 4,
 "nbformat_minor": 5
}
